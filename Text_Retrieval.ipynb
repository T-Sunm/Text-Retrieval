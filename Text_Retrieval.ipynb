{
  "metadata": {
    "kernelspec": {
      "language": "python",
      "display_name": "Python 3",
      "name": "python3"
    },
    "language_info": {
      "name": "python",
      "version": "3.10.13",
      "mimetype": "text/x-python",
      "codemirror_mode": {
        "name": "ipython",
        "version": 3
      },
      "pygments_lexer": "ipython3",
      "nbconvert_exporter": "python",
      "file_extension": ".py"
    },
    "kaggle": {
      "accelerator": "nvidiaTeslaT4",
      "dataSources": [],
      "dockerImageVersionId": 30747,
      "isInternetEnabled": true,
      "language": "python",
      "sourceType": "notebook",
      "isGpuEnabled": true
    },
    "colab": {
      "name": "Text Retrieval",
      "provenance": [],
      "toc_visible": true,
      "include_colab_link": true
    }
  },
  "nbformat_minor": 0,
  "nbformat": 4,
  "cells": [
    {
      "cell_type": "markdown",
      "metadata": {
        "id": "view-in-github",
        "colab_type": "text"
      },
      "source": [
        "<a href=\"https://colab.research.google.com/github/T-Sunm/Text-Retrieval/blob/main/Text_Retrieval.ipynb\" target=\"_parent\"><img src=\"https://colab.research.google.com/assets/colab-badge.svg\" alt=\"Open In Colab\"/></a>"
      ]
    },
    {
      "cell_type": "code",
      "source": [
        "# This Python 3 environment comes with many helpful analytics libraries installed\n",
        "# It is defined by the kaggle/python Docker image: https://github.com/kaggle/docker-python\n",
        "# For example, here's several helpful packages to load\n",
        "\n",
        "import numpy as np # linear algebra\n",
        "import pandas as pd # data processing, CSV file I/O (e.g. pd.read_csv)\n",
        "\n",
        "# Input data files are available in the read-only \"../input/\" directory\n",
        "# For example, running this (by clicking run or pressing Shift+Enter) will list all files under the input directory\n",
        "\n",
        "import os\n",
        "for dirname, _, filenames in os.walk('/kaggle/input'):\n",
        "    for filename in filenames:\n",
        "        print(os.path.join(dirname, filename))\n",
        "\n",
        "# You can write up to 20GB to the current directory (/kaggle/working/) that gets preserved as output when you create a version using \"Save & Run All\"\n",
        "# You can also write temporary files to /kaggle/temp/, but they won't be saved outside of the current session"
      ],
      "metadata": {
        "_uuid": "8f2839f25d086af736a60e9eeb907d3b93b6e0e5",
        "_cell_guid": "b1076dfc-b9ad-4769-8c92-a6c4dae69d19",
        "execution": {
          "iopub.status.busy": "2024-08-17T13:16:09.684511Z",
          "iopub.execute_input": "2024-08-17T13:16:09.685147Z",
          "iopub.status.idle": "2024-08-17T13:16:09.691632Z",
          "shell.execute_reply.started": "2024-08-17T13:16:09.685113Z",
          "shell.execute_reply": "2024-08-17T13:16:09.690508Z"
        },
        "trusted": true,
        "id": "0Hyu7mRnzyNg"
      },
      "execution_count": null,
      "outputs": []
    },
    {
      "cell_type": "code",
      "source": [
        "! pip install datasets\n",
        "! pip install tqdm"
      ],
      "metadata": {
        "execution": {
          "iopub.status.busy": "2024-08-17T13:16:09.693578Z",
          "iopub.execute_input": "2024-08-17T13:16:09.694399Z",
          "iopub.status.idle": "2024-08-17T13:16:34.51384Z",
          "shell.execute_reply.started": "2024-08-17T13:16:09.694366Z",
          "shell.execute_reply": "2024-08-17T13:16:34.512649Z"
        },
        "trusted": true,
        "id": "3rCpU_GFzyNh",
        "outputId": "ed886709-688a-41d3-8a05-aa57a15e75b5"
      },
      "execution_count": null,
      "outputs": [
        {
          "name": "stdout",
          "text": "Requirement already satisfied: datasets in /opt/conda/lib/python3.10/site-packages (2.20.0)\nRequirement already satisfied: filelock in /opt/conda/lib/python3.10/site-packages (from datasets) (3.13.1)\nRequirement already satisfied: numpy>=1.17 in /opt/conda/lib/python3.10/site-packages (from datasets) (1.26.4)\nRequirement already satisfied: pyarrow>=15.0.0 in /opt/conda/lib/python3.10/site-packages (from datasets) (16.1.0)\nRequirement already satisfied: pyarrow-hotfix in /opt/conda/lib/python3.10/site-packages (from datasets) (0.6)\nRequirement already satisfied: dill<0.3.9,>=0.3.0 in /opt/conda/lib/python3.10/site-packages (from datasets) (0.3.8)\nRequirement already satisfied: pandas in /opt/conda/lib/python3.10/site-packages (from datasets) (2.2.2)\nRequirement already satisfied: requests>=2.32.2 in /opt/conda/lib/python3.10/site-packages (from datasets) (2.32.3)\nRequirement already satisfied: tqdm>=4.66.3 in /opt/conda/lib/python3.10/site-packages (from datasets) (4.66.4)\nRequirement already satisfied: xxhash in /opt/conda/lib/python3.10/site-packages (from datasets) (3.4.1)\nRequirement already satisfied: multiprocess in /opt/conda/lib/python3.10/site-packages (from datasets) (0.70.16)\nRequirement already satisfied: fsspec<=2024.5.0,>=2023.1.0 in /opt/conda/lib/python3.10/site-packages (from fsspec[http]<=2024.5.0,>=2023.1.0->datasets) (2024.5.0)\nRequirement already satisfied: aiohttp in /opt/conda/lib/python3.10/site-packages (from datasets) (3.9.1)\nRequirement already satisfied: huggingface-hub>=0.21.2 in /opt/conda/lib/python3.10/site-packages (from datasets) (0.23.4)\nRequirement already satisfied: packaging in /opt/conda/lib/python3.10/site-packages (from datasets) (21.3)\nRequirement already satisfied: pyyaml>=5.1 in /opt/conda/lib/python3.10/site-packages (from datasets) (6.0.1)\nRequirement already satisfied: attrs>=17.3.0 in /opt/conda/lib/python3.10/site-packages (from aiohttp->datasets) (23.2.0)\nRequirement already satisfied: multidict<7.0,>=4.5 in /opt/conda/lib/python3.10/site-packages (from aiohttp->datasets) (6.0.4)\nRequirement already satisfied: yarl<2.0,>=1.0 in /opt/conda/lib/python3.10/site-packages (from aiohttp->datasets) (1.9.3)\nRequirement already satisfied: frozenlist>=1.1.1 in /opt/conda/lib/python3.10/site-packages (from aiohttp->datasets) (1.4.1)\nRequirement already satisfied: aiosignal>=1.1.2 in /opt/conda/lib/python3.10/site-packages (from aiohttp->datasets) (1.3.1)\nRequirement already satisfied: async-timeout<5.0,>=4.0 in /opt/conda/lib/python3.10/site-packages (from aiohttp->datasets) (4.0.3)\nRequirement already satisfied: typing-extensions>=3.7.4.3 in /opt/conda/lib/python3.10/site-packages (from huggingface-hub>=0.21.2->datasets) (4.9.0)\nRequirement already satisfied: pyparsing!=3.0.5,>=2.0.2 in /opt/conda/lib/python3.10/site-packages (from packaging->datasets) (3.1.1)\nRequirement already satisfied: charset-normalizer<4,>=2 in /opt/conda/lib/python3.10/site-packages (from requests>=2.32.2->datasets) (3.3.2)\nRequirement already satisfied: idna<4,>=2.5 in /opt/conda/lib/python3.10/site-packages (from requests>=2.32.2->datasets) (3.6)\nRequirement already satisfied: urllib3<3,>=1.21.1 in /opt/conda/lib/python3.10/site-packages (from requests>=2.32.2->datasets) (1.26.18)\nRequirement already satisfied: certifi>=2017.4.17 in /opt/conda/lib/python3.10/site-packages (from requests>=2.32.2->datasets) (2024.7.4)\nRequirement already satisfied: python-dateutil>=2.8.2 in /opt/conda/lib/python3.10/site-packages (from pandas->datasets) (2.9.0.post0)\nRequirement already satisfied: pytz>=2020.1 in /opt/conda/lib/python3.10/site-packages (from pandas->datasets) (2023.3.post1)\nRequirement already satisfied: tzdata>=2022.7 in /opt/conda/lib/python3.10/site-packages (from pandas->datasets) (2023.4)\nRequirement already satisfied: six>=1.5 in /opt/conda/lib/python3.10/site-packages (from python-dateutil>=2.8.2->pandas->datasets) (1.16.0)\nRequirement already satisfied: tqdm in /opt/conda/lib/python3.10/site-packages (4.66.4)\n",
          "output_type": "stream"
        }
      ]
    },
    {
      "cell_type": "code",
      "source": [
        "from datasets import load_dataset\n",
        "ds = load_dataset(\"microsoft/ms_marco\", \"v1.1\")"
      ],
      "metadata": {
        "execution": {
          "iopub.status.busy": "2024-08-17T13:16:34.515588Z",
          "iopub.execute_input": "2024-08-17T13:16:34.515949Z",
          "iopub.status.idle": "2024-08-17T13:16:35.884404Z",
          "shell.execute_reply.started": "2024-08-17T13:16:34.515917Z",
          "shell.execute_reply": "2024-08-17T13:16:35.883701Z"
        },
        "trusted": true,
        "id": "czh1cr95zyNi"
      },
      "execution_count": null,
      "outputs": []
    },
    {
      "cell_type": "code",
      "source": [
        "from tqdm import tqdm"
      ],
      "metadata": {
        "execution": {
          "iopub.status.busy": "2024-08-17T14:46:22.488074Z",
          "iopub.execute_input": "2024-08-17T14:46:22.488939Z",
          "iopub.status.idle": "2024-08-17T14:46:22.49279Z",
          "shell.execute_reply.started": "2024-08-17T14:46:22.488908Z",
          "shell.execute_reply": "2024-08-17T14:46:22.492042Z"
        },
        "trusted": true,
        "id": "BeRDo7srzyNj"
      },
      "execution_count": null,
      "outputs": []
    },
    {
      "cell_type": "markdown",
      "source": [
        "# Text Retrieval Traditional"
      ],
      "metadata": {
        "id": "gx5X96FZzyNj"
      }
    },
    {
      "cell_type": "markdown",
      "source": [
        "## Xây dựng danh sách câu truy vấn và tài liệu:"
      ],
      "metadata": {
        "id": "yw26lLiTzyNk"
      }
    },
    {
      "cell_type": "code",
      "source": [
        "# Chọn bộ test:\n",
        "subset = ds['test']\n",
        "\n",
        "\n",
        "# Khai báo danh sách chứa tập câu truy vấn và tài liệu có liên quan:\n",
        "queries_infos = []\n",
        "queries = []\n",
        "corpus = []\n",
        "\n",
        "for sample in tqdm(subset, desc=  \"Processing get data in dataset\"):\n",
        "    query_type = sample['query_type']\n",
        "\n",
        "    if query_type != 'entity':\n",
        "        continue\n",
        "    query_str = sample['query']\n",
        "    query_id = sample['query_id']\n",
        "    passages_dict = sample['passages']\n",
        "    is_selected_lst = passages_dict[\"is_selected\"]\n",
        "    passage_text_lst = passages_dict[\"passage_text\"]\n",
        "    query_info = {\n",
        "        'query_id': query_id,\n",
        "        'query': query_str,\n",
        "        'relevant_docs': []\n",
        "    }\n",
        "\n",
        "    length_of_corpus = len(corpus)\n",
        "    for idx in range(len(is_selected_lst)):\n",
        "        if is_selected_lst[idx] == 1:\n",
        "#           mình sẽ gộp tất cả các passage_text_lst theo thứ tự vào trong 1 corpus chứ kh chia ra như sample\n",
        "#           vì vậy khi mình lưu 1 câu doc có is_selected == 1 thì mình current_len_corpus + idx để sau này truy xuất đúng index của nó\n",
        "            doc_idx = length_of_corpus + idx\n",
        "            query_info['relevant_docs'].append(doc_idx)\n",
        "\n",
        "#     sample nào kh có câu trả lời đúng thì loại ra\n",
        "    if query_info['relevant_docs'] == []:\n",
        "        continue\n",
        "\n",
        "    queries.append(query_str)\n",
        "    queries_infos.append(query_info)\n",
        "\n",
        "#     thêm nhiều phần tử vào mảng\n",
        "    corpus.extend(passage_text_lst)\n"
      ],
      "metadata": {
        "execution": {
          "iopub.status.busy": "2024-08-17T13:16:35.892857Z",
          "iopub.execute_input": "2024-08-17T13:16:35.893226Z",
          "iopub.status.idle": "2024-08-17T13:16:37.307834Z",
          "shell.execute_reply.started": "2024-08-17T13:16:35.893181Z",
          "shell.execute_reply": "2024-08-17T13:16:37.306902Z"
        },
        "trusted": true,
        "id": "GdX0K9EvzyNk",
        "outputId": "35a75c40-2f35-490f-9681-ebe9175840d7"
      },
      "execution_count": null,
      "outputs": [
        {
          "name": "stderr",
          "text": "Processing get data in dataset: 100%|██████████| 9650/9650 [00:01<00:00, 6928.77it/s]\n",
          "output_type": "stream"
        }
      ]
    },
    {
      "cell_type": "code",
      "source": [
        "corpus[:5]"
      ],
      "metadata": {
        "execution": {
          "iopub.status.busy": "2024-08-17T13:16:37.308921Z",
          "iopub.execute_input": "2024-08-17T13:16:37.309224Z",
          "iopub.status.idle": "2024-08-17T13:16:37.315478Z",
          "shell.execute_reply.started": "2024-08-17T13:16:37.309191Z",
          "shell.execute_reply": "2024-08-17T13:16:37.314618Z"
        },
        "trusted": true,
        "id": "C-fKQZVJzyNl",
        "outputId": "e3784e11-27a9-49ec-c6cf-ba96dce54949"
      },
      "execution_count": null,
      "outputs": [
        {
          "execution_count": 63,
          "output_type": "execute_result",
          "data": {
            "text/plain": "['SUBPHYLUM CHELICERATA, CLASS ARACHNIDA. Spiders. This group contains many familiar organisms, including the spiders, mites, scorpions and ticks. Examine the large spider on the right. Again, notice that there are two body regions, a cephalothorax and an abdomen. On the cephalothorax are two to four pairs of simple eyes.',\n 'The class Arachnida includes a diverse group of arthropods: spiders, scorpions, ticks, mites, harvestmen, and their cousins. Scientists describe over 75,000 species of arachnids, the majority of them spiders. Most arachnids are carnivorous, typically preying on insects, and terrestrial, living on land.',\n 'Spiders belong to the phylum Arthropoda, along with insects and crustaceans. The order of spiders, Araneae—together with scorpions, harvestmen, and the large order of mites and ticks—make up the class of Arachnida. Spiders differ from other arachnids in having the body divided into cephalothorax and abdomen.',\n 'The class Araneae contains the spiders, a large and fascinating group. Spiders have the typical arachnid characteristics-eight legs, pedipalps, chelicerae and two major body regions. However, the chelicerae have lost the inside thumb and the outside hinged segment has become a fang.',\n 'Making the world better, one answer at a time. the class of a spider is arachnida. Spiders belong to the aracnid familly along with all the other types of spiders. Spiders are not insects. They are arachnids. So are scorpions, mite, ticks, harvestmen, and many others.']"
          },
          "metadata": {}
        }
      ]
    },
    {
      "cell_type": "markdown",
      "source": [
        "## Xây dựng hàm chuẩn hóa văn bản:"
      ],
      "metadata": {
        "id": "_KVxhEjOzyNl"
      }
    },
    {
      "cell_type": "code",
      "source": [
        "import string\n",
        "import nltk\n",
        "from nltk.corpus import stopwords\n",
        "from nltk.stem import PorterStemmer\n",
        "nltk.download('stopwords')"
      ],
      "metadata": {
        "execution": {
          "iopub.status.busy": "2024-08-17T13:16:37.316449Z",
          "iopub.execute_input": "2024-08-17T13:16:37.316691Z",
          "iopub.status.idle": "2024-08-17T13:16:37.328208Z",
          "shell.execute_reply.started": "2024-08-17T13:16:37.31667Z",
          "shell.execute_reply": "2024-08-17T13:16:37.327312Z"
        },
        "trusted": true,
        "id": "bT2oypexzyNl",
        "outputId": "2d132b51-1a3f-4c25-8b39-742205bd1ef8"
      },
      "execution_count": null,
      "outputs": [
        {
          "name": "stdout",
          "text": "[nltk_data] Downloading package stopwords to /usr/share/nltk_data...\n[nltk_data]   Package stopwords is already up-to-date!\n",
          "output_type": "stream"
        },
        {
          "execution_count": 64,
          "output_type": "execute_result",
          "data": {
            "text/plain": "True"
          },
          "metadata": {}
        }
      ]
    },
    {
      "cell_type": "markdown",
      "source": [
        "## Lowercase"
      ],
      "metadata": {
        "id": "lhnS7jG4zyNm"
      }
    },
    {
      "cell_type": "code",
      "source": [
        "def lowercase(text : str):\n",
        "    return text.lower()"
      ],
      "metadata": {
        "execution": {
          "iopub.status.busy": "2024-08-17T13:16:37.329363Z",
          "iopub.execute_input": "2024-08-17T13:16:37.329645Z",
          "iopub.status.idle": "2024-08-17T13:16:37.338464Z",
          "shell.execute_reply.started": "2024-08-17T13:16:37.329623Z",
          "shell.execute_reply": "2024-08-17T13:16:37.337557Z"
        },
        "trusted": true,
        "id": "rSR45AAnzyNm"
      },
      "execution_count": null,
      "outputs": []
    },
    {
      "cell_type": "markdown",
      "source": [
        "## Punctuation removal"
      ],
      "metadata": {
        "id": "394rx3BzzyNm"
      }
    },
    {
      "cell_type": "code",
      "source": [
        "def punctual_removal(text: str):\n",
        "    translator = str.maketrans('','',string.punctuation)\n",
        "\n",
        "    return text.translate(translator)"
      ],
      "metadata": {
        "execution": {
          "iopub.status.busy": "2024-08-17T13:16:37.341346Z",
          "iopub.execute_input": "2024-08-17T13:16:37.341632Z",
          "iopub.status.idle": "2024-08-17T13:16:37.350184Z",
          "shell.execute_reply.started": "2024-08-17T13:16:37.34161Z",
          "shell.execute_reply": "2024-08-17T13:16:37.349299Z"
        },
        "trusted": true,
        "id": "PBlB3mD7zyNm"
      },
      "execution_count": null,
      "outputs": []
    },
    {
      "cell_type": "markdown",
      "source": [
        "## Tokenizer"
      ],
      "metadata": {
        "id": "EjTVD1YAzyNm"
      }
    },
    {
      "cell_type": "code",
      "source": [
        "def tokenizer(text:str):\n",
        "    return text.split()"
      ],
      "metadata": {
        "execution": {
          "iopub.status.busy": "2024-08-17T13:16:37.351163Z",
          "iopub.execute_input": "2024-08-17T13:16:37.351428Z",
          "iopub.status.idle": "2024-08-17T13:16:37.36138Z",
          "shell.execute_reply.started": "2024-08-17T13:16:37.351406Z",
          "shell.execute_reply": "2024-08-17T13:16:37.360458Z"
        },
        "trusted": true,
        "id": "elJTubVrzyNm"
      },
      "execution_count": null,
      "outputs": []
    },
    {
      "cell_type": "markdown",
      "source": [
        "## Remove stopword"
      ],
      "metadata": {
        "id": "5gwWNhPkzyNn"
      }
    },
    {
      "cell_type": "code",
      "source": [
        "def remove_stopword(vocab_lst:list):\n",
        "    stopword = stopwords.words('english')\n",
        "    return [vocab for vocab in vocab_lst if vocab not in stopword]"
      ],
      "metadata": {
        "execution": {
          "iopub.status.busy": "2024-08-17T13:16:37.362458Z",
          "iopub.execute_input": "2024-08-17T13:16:37.36273Z",
          "iopub.status.idle": "2024-08-17T13:16:37.370952Z",
          "shell.execute_reply.started": "2024-08-17T13:16:37.362706Z",
          "shell.execute_reply": "2024-08-17T13:16:37.37026Z"
        },
        "trusted": true,
        "id": "RnPHb9LfzyNn"
      },
      "execution_count": null,
      "outputs": []
    },
    {
      "cell_type": "markdown",
      "source": [
        "## Stemming"
      ],
      "metadata": {
        "id": "cClxYB9mzyNn"
      }
    },
    {
      "cell_type": "code",
      "source": [
        "def stemming(vocab_lst: list):\n",
        "    # Khởi tạo PorterStemmer\n",
        "    ps = PorterStemmer()\n",
        "    return [ps.stem(vocab) for vocab in vocab_lst]"
      ],
      "metadata": {
        "execution": {
          "iopub.status.busy": "2024-08-17T13:16:37.371991Z",
          "iopub.execute_input": "2024-08-17T13:16:37.372319Z",
          "iopub.status.idle": "2024-08-17T13:16:37.380723Z",
          "shell.execute_reply.started": "2024-08-17T13:16:37.372296Z",
          "shell.execute_reply": "2024-08-17T13:16:37.379968Z"
        },
        "trusted": true,
        "id": "qNjUWSy-zyNo"
      },
      "execution_count": null,
      "outputs": []
    },
    {
      "cell_type": "code",
      "source": [
        "def preprocessing_text(text):\n",
        "    text = lowercase(text)\n",
        "    text = punctual_removal(text)\n",
        "    vocabs = tokenizer(text)\n",
        "    vocabs = remove_stopword(vocabs)\n",
        "    vocabs = stemming(vocabs)\n",
        "\n",
        "    return vocabs\n",
        "\n",
        "test = preprocessing_text(corpus[0])\n",
        "print(test)"
      ],
      "metadata": {
        "execution": {
          "iopub.status.busy": "2024-08-17T13:16:37.381681Z",
          "iopub.execute_input": "2024-08-17T13:16:37.381944Z",
          "iopub.status.idle": "2024-08-17T13:16:37.398571Z",
          "shell.execute_reply.started": "2024-08-17T13:16:37.381922Z",
          "shell.execute_reply": "2024-08-17T13:16:37.397537Z"
        },
        "trusted": true,
        "id": "OgvVVKoHzyNo",
        "outputId": "b6f5fa59-341e-420f-b5e7-50ef6f048a0c"
      },
      "execution_count": null,
      "outputs": [
        {
          "name": "stdout",
          "text": "['subphylum', 'chelicerata', 'class', 'arachnida', 'spider', 'group', 'contain', 'mani', 'familiar', 'organ', 'includ', 'spider', 'mite', 'scorpion', 'tick', 'examin', 'larg', 'spider', 'right', 'notic', 'two', 'bodi', 'region', 'cephalothorax', 'abdomen', 'cephalothorax', 'two', 'four', 'pair', 'simpl', 'eye']\n",
          "output_type": "stream"
        }
      ]
    },
    {
      "cell_type": "markdown",
      "source": [
        "## Xây dựng bộ từ vựng (dictionary)"
      ],
      "metadata": {
        "id": "gacmONcizyNo"
      }
    },
    {
      "cell_type": "code",
      "source": [
        "def create_dict(corpus):\n",
        "    dictionary = {}\n",
        "    index = 0  # Khởi tạo chỉ số cho từ điển\n",
        "    for text in tqdm(corpus, desc=\"Preprocessing text and create dictionary...\"):\n",
        "        vocabs = preprocessing_text(text)\n",
        "        for vocab in vocabs:\n",
        "            if vocab not in dictionary:\n",
        "                dictionary[vocab] = index\n",
        "                index += 1\n",
        "\n",
        "    return dictionary\n",
        "\n",
        "\n",
        "\n",
        "dictionary = create_dict(corpus)\n",
        "\n",
        ""
      ],
      "metadata": {
        "execution": {
          "iopub.status.busy": "2024-08-17T13:16:37.399633Z",
          "iopub.execute_input": "2024-08-17T13:16:37.399933Z",
          "iopub.status.idle": "2024-08-17T13:16:50.289456Z",
          "shell.execute_reply.started": "2024-08-17T13:16:37.399908Z",
          "shell.execute_reply": "2024-08-17T13:16:50.288371Z"
        },
        "trusted": true,
        "id": "KuKc3143zyNo",
        "outputId": "d3941fda-f217-4f6b-acce-6a5f180085c6"
      },
      "execution_count": null,
      "outputs": [
        {
          "name": "stderr",
          "text": "Preprocessing text and create dictionary...: 100%|██████████| 7303/7303 [00:12<00:00, 567.27it/s]\n",
          "output_type": "stream"
        }
      ]
    },
    {
      "cell_type": "markdown",
      "source": [
        "## Xây dựng ma trận document-term:\n",
        "ta sẽ dụng cấu trúc dữ liệu dict , key : là từ muốn tìm , value là index . Để khi mình tim được từ rồi thì mình dùng index đó cập nhật vào trong mảng"
      ],
      "metadata": {
        "id": "j04LWfIezyNo"
      }
    },
    {
      "cell_type": "code",
      "source": [
        "def vectorize(text, dictionary):\n",
        "    vocabs = preprocessing_text(text)\n",
        "    vector = np.zeros(len(dictionary))\n",
        "    for vocab in vocabs:\n",
        "        index = dictionary.get(vocab, -1)\n",
        "        if index != -1:\n",
        "            vector[index] += 1\n",
        "    return vector\n",
        "\n",
        "def create_doc_terms(corpus, dictionary):\n",
        "    doc_terms = []\n",
        "    for text in tqdm(corpus, desc = 'create docterms...'):\n",
        "        vector = vectorize(text, dictionary)\n",
        "        doc_terms.append(vector)\n",
        "    return doc_terms\n",
        "\n",
        "docterms = create_doc_terms(corpus, dictionary)\n",
        "\n",
        "\n"
      ],
      "metadata": {
        "execution": {
          "iopub.status.busy": "2024-08-17T13:16:50.291859Z",
          "iopub.execute_input": "2024-08-17T13:16:50.292155Z",
          "iopub.status.idle": "2024-08-17T13:17:04.363844Z",
          "shell.execute_reply.started": "2024-08-17T13:16:50.292128Z",
          "shell.execute_reply": "2024-08-17T13:17:04.362895Z"
        },
        "trusted": true,
        "id": "BDCvaGT5zyNo",
        "outputId": "5afc9ab7-4567-4cda-f95f-32b0dee8524f"
      },
      "execution_count": null,
      "outputs": [
        {
          "name": "stderr",
          "text": "create docterms...: 100%|██████████| 7303/7303 [00:14<00:00, 519.39it/s]\n",
          "output_type": "stream"
        }
      ]
    },
    {
      "cell_type": "code",
      "source": [
        "print(np.array(docterms).shape)"
      ],
      "metadata": {
        "execution": {
          "iopub.status.busy": "2024-08-17T13:17:04.365057Z",
          "iopub.execute_input": "2024-08-17T13:17:04.365387Z",
          "iopub.status.idle": "2024-08-17T13:17:04.840764Z",
          "shell.execute_reply.started": "2024-08-17T13:17:04.365353Z",
          "shell.execute_reply": "2024-08-17T13:17:04.839824Z"
        },
        "trusted": true,
        "id": "TN7NqP_czyNp",
        "outputId": "426035c2-f42a-42c7-9a10-2aac6d8e7a32"
      },
      "execution_count": null,
      "outputs": [
        {
          "name": "stdout",
          "text": "(7303, 22111)\n",
          "output_type": "stream"
        }
      ]
    },
    {
      "cell_type": "markdown",
      "source": [
        "## Xây dựng hàm tính độ tương đồng giữa hai vector:"
      ],
      "metadata": {
        "id": "WMuH1fpWzyNp"
      }
    },
    {
      "cell_type": "code",
      "source": [
        "def compute_cosine_similarity(query, docterms):\n",
        "    numerator = np.sum(query*docterms, axis = 1)\n",
        "    norm_q = np.linalg.norm(query)\n",
        "    norm_docterms = np.linalg.norm(docterms, axis = 1)\n",
        "\n",
        "    return numerator / (norm_q * norm_docterms)\n",
        ""
      ],
      "metadata": {
        "execution": {
          "iopub.status.busy": "2024-08-17T13:17:04.842058Z",
          "iopub.execute_input": "2024-08-17T13:17:04.842464Z",
          "iopub.status.idle": "2024-08-17T13:17:04.847665Z",
          "shell.execute_reply.started": "2024-08-17T13:17:04.842438Z",
          "shell.execute_reply": "2024-08-17T13:17:04.84677Z"
        },
        "trusted": true,
        "id": "RvFfwErezyNp"
      },
      "execution_count": null,
      "outputs": []
    },
    {
      "cell_type": "code",
      "source": [
        "query_lst = 'what is the official language in Fiji'\n",
        "top_k = 10\n",
        "vector_q = vectorize(query_lst,dictionary)\n",
        "ranking = sorted(enumerate(compute_cosine_similarity(vector_q, docterms)), key=lambda x: x[1], reverse=True)[:top_k]\n",
        "\n",
        "for top, (index, similarity) in enumerate(ranking, start= 1):\n",
        "    print(f\"Top {top} \\n\",corpus[index])\n"
      ],
      "metadata": {
        "execution": {
          "iopub.status.busy": "2024-08-17T13:17:04.848819Z",
          "iopub.execute_input": "2024-08-17T13:17:04.849567Z",
          "iopub.status.idle": "2024-08-17T13:17:06.650804Z",
          "shell.execute_reply.started": "2024-08-17T13:17:04.849536Z",
          "shell.execute_reply": "2024-08-17T13:17:06.649933Z"
        },
        "trusted": true,
        "id": "ew5vil43zyNp",
        "outputId": "e316eec2-a44c-4ba1-f1d0-8becf9e51949"
      },
      "execution_count": null,
      "outputs": [
        {
          "name": "stdout",
          "text": "Top 1 \n The official languages in Fiji are Fijian and English. A dialect of Hindustani is also widely spoken among Indo-Fijians.  _________________________________________   T … he official and everyday language of Fiji is English. Fijian and Fiji-Hindi are second languages in the island nation.\nTop 2 \n The official languages in Fiji are Fijian and English. A dialect of Hindustani is also widely spoken among Indo-Fijians.  _________________________________________   T … he official and everyday language of Fiji is English. Fijian and Fiji-Hindi are second languages in the island nation.\nTop 3 \n The official languages. Fiji’s 1997 Constitution established Fijian as one of the official languages of the country. Fijian is an Austronesian language, a grouping that includes thousands of other languages spanning the globe. The language is of the Malayo-Polynesian family, not too different from Hawaiian and Maori.\nTop 4 \n Of all the languages of Russia, Russian is the only official language. There are 35 different languages which are considered official languages in various regions of Russia, along with Russian. There are over 100 minority languages spoken in Russia today.\nTop 5 \n Finnish is one of two official languages of Finland (the other being Swedish, spoken by 5.42% of the population as of 2010) and an official language of the European Union. It enjoys the status of an official minority language in Sweden. It is one of the two official languages of Finland and an official minority language in Sweden. In Sweden, both standard Finnish and Meaenkieli, meänkieli A finnish, dialect are. Spoken The kven, language a dialect Of, finnish is spoken In Northern. norway\nTop 6 \n Liberia is a multilingual country where more than thirty languages are spoken. English is the official language. None of the languages group forms a distinctive majority. These languages can be grouped in four language families: Mande, Kru, Mel, and the divergent language Gola.\nTop 7 \n There are over 120 ethnic groups, each with its own language or dialect. Indigenous Tanzanians make up 99 % of the population, while other ethnic groups include Asians, Europeans and Arabs. KiSwahili is the official, universally-spoken language in Tanzania. English, also an official language, is the language of commerce.\nTop 8 \n the two official languages every country in the world has official languages that are spoken amongst the population these languages are generally what are fluently spoken by all residents in canada the two official languages are english and french alongside this 6 2 % of canadians stated that they only speak a language other than english or french at home the different languages of canada with over 200 different languages that are spoken throughout the country the list of different languages in canada would be extensive based on the most populated cities in the country below is a list of commonly spoken languages aside from english and french cantonese\nTop 9 \n Fiji Language. The Fijian language spoken in Fiji is a type of Austronesian langauge and is part of the Malayo-Polynesian family. The Austronesian languages are normally found among islands in continental and Southeast Asia along with islands in the Pacific.\nTop 10 \n Upon Uganda's independence in 1962, English was maintained as the official language, as it was already rooted deeply in administration, media, and education. Also, Uganda's ethnolinguistic diversity made it difficult to choose another language as the official language of Uganda. Forty of its living indigenous languages fall into three main families — Bantu, Nilotic, and Central Sudanic — with another two languages in the Kuliak family.\n",
          "output_type": "stream"
        }
      ]
    },
    {
      "cell_type": "code",
      "source": [
        "! pip install sentence_transformers"
      ],
      "metadata": {
        "execution": {
          "iopub.status.busy": "2024-08-17T14:05:16.088706Z",
          "iopub.execute_input": "2024-08-17T14:05:16.089655Z",
          "iopub.status.idle": "2024-08-17T14:05:29.082327Z",
          "shell.execute_reply.started": "2024-08-17T14:05:16.089614Z",
          "shell.execute_reply": "2024-08-17T14:05:29.081363Z"
        },
        "trusted": true,
        "id": "J_GWbvXKzyNp",
        "outputId": "00c28ebb-5672-45ed-fedb-7a9426debfd5"
      },
      "execution_count": null,
      "outputs": [
        {
          "name": "stdout",
          "text": "Collecting sentence_transformers\n  Downloading sentence_transformers-3.0.1-py3-none-any.whl.metadata (10 kB)\nRequirement already satisfied: transformers<5.0.0,>=4.34.0 in /opt/conda/lib/python3.10/site-packages (from sentence_transformers) (4.42.3)\nRequirement already satisfied: tqdm in /opt/conda/lib/python3.10/site-packages (from sentence_transformers) (4.66.4)\nRequirement already satisfied: torch>=1.11.0 in /opt/conda/lib/python3.10/site-packages (from sentence_transformers) (2.1.2)\nRequirement already satisfied: numpy in /opt/conda/lib/python3.10/site-packages (from sentence_transformers) (1.26.4)\nRequirement already satisfied: scikit-learn in /opt/conda/lib/python3.10/site-packages (from sentence_transformers) (1.2.2)\nRequirement already satisfied: scipy in /opt/conda/lib/python3.10/site-packages (from sentence_transformers) (1.11.4)\nRequirement already satisfied: huggingface-hub>=0.15.1 in /opt/conda/lib/python3.10/site-packages (from sentence_transformers) (0.23.4)\nRequirement already satisfied: Pillow in /opt/conda/lib/python3.10/site-packages (from sentence_transformers) (9.5.0)\nRequirement already satisfied: filelock in /opt/conda/lib/python3.10/site-packages (from huggingface-hub>=0.15.1->sentence_transformers) (3.13.1)\nRequirement already satisfied: fsspec>=2023.5.0 in /opt/conda/lib/python3.10/site-packages (from huggingface-hub>=0.15.1->sentence_transformers) (2024.5.0)\nRequirement already satisfied: packaging>=20.9 in /opt/conda/lib/python3.10/site-packages (from huggingface-hub>=0.15.1->sentence_transformers) (21.3)\nRequirement already satisfied: pyyaml>=5.1 in /opt/conda/lib/python3.10/site-packages (from huggingface-hub>=0.15.1->sentence_transformers) (6.0.1)\nRequirement already satisfied: requests in /opt/conda/lib/python3.10/site-packages (from huggingface-hub>=0.15.1->sentence_transformers) (2.32.3)\nRequirement already satisfied: typing-extensions>=3.7.4.3 in /opt/conda/lib/python3.10/site-packages (from huggingface-hub>=0.15.1->sentence_transformers) (4.9.0)\nRequirement already satisfied: sympy in /opt/conda/lib/python3.10/site-packages (from torch>=1.11.0->sentence_transformers) (1.13.0)\nRequirement already satisfied: networkx in /opt/conda/lib/python3.10/site-packages (from torch>=1.11.0->sentence_transformers) (3.2.1)\nRequirement already satisfied: jinja2 in /opt/conda/lib/python3.10/site-packages (from torch>=1.11.0->sentence_transformers) (3.1.2)\nRequirement already satisfied: regex!=2019.12.17 in /opt/conda/lib/python3.10/site-packages (from transformers<5.0.0,>=4.34.0->sentence_transformers) (2023.12.25)\nRequirement already satisfied: safetensors>=0.4.1 in /opt/conda/lib/python3.10/site-packages (from transformers<5.0.0,>=4.34.0->sentence_transformers) (0.4.3)\nRequirement already satisfied: tokenizers<0.20,>=0.19 in /opt/conda/lib/python3.10/site-packages (from transformers<5.0.0,>=4.34.0->sentence_transformers) (0.19.1)\nRequirement already satisfied: joblib>=1.1.1 in /opt/conda/lib/python3.10/site-packages (from scikit-learn->sentence_transformers) (1.4.2)\nRequirement already satisfied: threadpoolctl>=2.0.0 in /opt/conda/lib/python3.10/site-packages (from scikit-learn->sentence_transformers) (3.2.0)\nRequirement already satisfied: pyparsing!=3.0.5,>=2.0.2 in /opt/conda/lib/python3.10/site-packages (from packaging>=20.9->huggingface-hub>=0.15.1->sentence_transformers) (3.1.1)\nRequirement already satisfied: MarkupSafe>=2.0 in /opt/conda/lib/python3.10/site-packages (from jinja2->torch>=1.11.0->sentence_transformers) (2.1.3)\nRequirement already satisfied: charset-normalizer<4,>=2 in /opt/conda/lib/python3.10/site-packages (from requests->huggingface-hub>=0.15.1->sentence_transformers) (3.3.2)\nRequirement already satisfied: idna<4,>=2.5 in /opt/conda/lib/python3.10/site-packages (from requests->huggingface-hub>=0.15.1->sentence_transformers) (3.6)\nRequirement already satisfied: urllib3<3,>=1.21.1 in /opt/conda/lib/python3.10/site-packages (from requests->huggingface-hub>=0.15.1->sentence_transformers) (1.26.18)\nRequirement already satisfied: certifi>=2017.4.17 in /opt/conda/lib/python3.10/site-packages (from requests->huggingface-hub>=0.15.1->sentence_transformers) (2024.7.4)\nRequirement already satisfied: mpmath<1.4,>=1.1.0 in /opt/conda/lib/python3.10/site-packages (from sympy->torch>=1.11.0->sentence_transformers) (1.3.0)\nDownloading sentence_transformers-3.0.1-py3-none-any.whl (227 kB)\n\u001b[2K   \u001b[90m━━━━━━━━━━━━━━━━━━━━━━━━━━━━━━━━━━━━━━━━\u001b[0m \u001b[32m227.1/227.1 kB\u001b[0m \u001b[31m1.8 MB/s\u001b[0m eta \u001b[36m0:00:00\u001b[0ma \u001b[36m0:00:01\u001b[0mm\n\u001b[?25hInstalling collected packages: sentence_transformers\nSuccessfully installed sentence_transformers-3.0.1\n",
          "output_type": "stream"
        }
      ]
    },
    {
      "cell_type": "code",
      "source": [
        "pip install --upgrade torch torchvision torchaudio"
      ],
      "metadata": {
        "execution": {
          "iopub.status.busy": "2024-08-17T14:08:00.310903Z",
          "iopub.execute_input": "2024-08-17T14:08:00.312151Z",
          "iopub.status.idle": "2024-08-17T14:10:37.803854Z",
          "shell.execute_reply.started": "2024-08-17T14:08:00.312119Z",
          "shell.execute_reply": "2024-08-17T14:10:37.802641Z"
        },
        "trusted": true,
        "id": "uPN9arm4zyNp",
        "outputId": "4528e211-4ff0-4d31-afce-ea0aa92861a0"
      },
      "execution_count": null,
      "outputs": [
        {
          "name": "stderr",
          "text": "/opt/conda/lib/python3.10/pty.py:89: RuntimeWarning: os.fork() was called. os.fork() is incompatible with multithreaded code, and JAX is multithreaded, so this will likely lead to a deadlock.\n  pid, fd = os.forkpty()\n",
          "output_type": "stream"
        },
        {
          "name": "stdout",
          "text": "Requirement already satisfied: torch in /opt/conda/lib/python3.10/site-packages (2.1.2)\nCollecting torch\n  Downloading torch-2.4.0-cp310-cp310-manylinux1_x86_64.whl.metadata (26 kB)\nRequirement already satisfied: torchvision in /opt/conda/lib/python3.10/site-packages (0.16.2)\nCollecting torchvision\n  Downloading torchvision-0.19.0-cp310-cp310-manylinux1_x86_64.whl.metadata (6.0 kB)\nRequirement already satisfied: torchaudio in /opt/conda/lib/python3.10/site-packages (2.1.2)\nCollecting torchaudio\n  Downloading torchaudio-2.4.0-cp310-cp310-manylinux1_x86_64.whl.metadata (6.4 kB)\nRequirement already satisfied: filelock in /opt/conda/lib/python3.10/site-packages (from torch) (3.13.1)\nRequirement already satisfied: typing-extensions>=4.8.0 in /opt/conda/lib/python3.10/site-packages (from torch) (4.9.0)\nRequirement already satisfied: sympy in /opt/conda/lib/python3.10/site-packages (from torch) (1.13.0)\nRequirement already satisfied: networkx in /opt/conda/lib/python3.10/site-packages (from torch) (3.2.1)\nRequirement already satisfied: jinja2 in /opt/conda/lib/python3.10/site-packages (from torch) (3.1.2)\nRequirement already satisfied: fsspec in /opt/conda/lib/python3.10/site-packages (from torch) (2024.5.0)\nCollecting nvidia-cuda-nvrtc-cu12==12.1.105 (from torch)\n  Downloading nvidia_cuda_nvrtc_cu12-12.1.105-py3-none-manylinux1_x86_64.whl.metadata (1.5 kB)\nCollecting nvidia-cuda-runtime-cu12==12.1.105 (from torch)\n  Downloading nvidia_cuda_runtime_cu12-12.1.105-py3-none-manylinux1_x86_64.whl.metadata (1.5 kB)\nCollecting nvidia-cuda-cupti-cu12==12.1.105 (from torch)\n  Downloading nvidia_cuda_cupti_cu12-12.1.105-py3-none-manylinux1_x86_64.whl.metadata (1.6 kB)\nCollecting nvidia-cudnn-cu12==9.1.0.70 (from torch)\n  Downloading nvidia_cudnn_cu12-9.1.0.70-py3-none-manylinux2014_x86_64.whl.metadata (1.6 kB)\nCollecting nvidia-cublas-cu12==12.1.3.1 (from torch)\n  Downloading nvidia_cublas_cu12-12.1.3.1-py3-none-manylinux1_x86_64.whl.metadata (1.5 kB)\nCollecting nvidia-cufft-cu12==11.0.2.54 (from torch)\n  Downloading nvidia_cufft_cu12-11.0.2.54-py3-none-manylinux1_x86_64.whl.metadata (1.5 kB)\nCollecting nvidia-curand-cu12==10.3.2.106 (from torch)\n  Downloading nvidia_curand_cu12-10.3.2.106-py3-none-manylinux1_x86_64.whl.metadata (1.5 kB)\nCollecting nvidia-cusolver-cu12==11.4.5.107 (from torch)\n  Downloading nvidia_cusolver_cu12-11.4.5.107-py3-none-manylinux1_x86_64.whl.metadata (1.6 kB)\nCollecting nvidia-cusparse-cu12==12.1.0.106 (from torch)\n  Downloading nvidia_cusparse_cu12-12.1.0.106-py3-none-manylinux1_x86_64.whl.metadata (1.6 kB)\nCollecting nvidia-nccl-cu12==2.20.5 (from torch)\n  Downloading nvidia_nccl_cu12-2.20.5-py3-none-manylinux2014_x86_64.whl.metadata (1.8 kB)\nCollecting nvidia-nvtx-cu12==12.1.105 (from torch)\n  Downloading nvidia_nvtx_cu12-12.1.105-py3-none-manylinux1_x86_64.whl.metadata (1.7 kB)\nCollecting triton==3.0.0 (from torch)\n  Downloading triton-3.0.0-1-cp310-cp310-manylinux2014_x86_64.manylinux_2_17_x86_64.whl.metadata (1.3 kB)\nCollecting nvidia-nvjitlink-cu12 (from nvidia-cusolver-cu12==11.4.5.107->torch)\n  Downloading nvidia_nvjitlink_cu12-12.6.20-py3-none-manylinux2014_x86_64.whl.metadata (1.5 kB)\nRequirement already satisfied: numpy in /opt/conda/lib/python3.10/site-packages (from torchvision) (1.26.4)\nRequirement already satisfied: pillow!=8.3.*,>=5.3.0 in /opt/conda/lib/python3.10/site-packages (from torchvision) (9.5.0)\nRequirement already satisfied: MarkupSafe>=2.0 in /opt/conda/lib/python3.10/site-packages (from jinja2->torch) (2.1.3)\nRequirement already satisfied: mpmath<1.4,>=1.1.0 in /opt/conda/lib/python3.10/site-packages (from sympy->torch) (1.3.0)\nDownloading torch-2.4.0-cp310-cp310-manylinux1_x86_64.whl (797.2 MB)\n\u001b[2K   \u001b[90m━━━━━━━━━━━━━━━━━━━━━━━━━━━━━━━━━━━━━━━━\u001b[0m \u001b[32m797.2/797.2 MB\u001b[0m \u001b[31m2.0 MB/s\u001b[0m eta \u001b[36m0:00:00\u001b[0m:00:01\u001b[0m00:01\u001b[0m\n\u001b[?25hDownloading nvidia_cublas_cu12-12.1.3.1-py3-none-manylinux1_x86_64.whl (410.6 MB)\n\u001b[2K   \u001b[90m━━━━━━━━━━━━━━━━━━━━━━━━━━━━━━━━━━━━━━━━\u001b[0m \u001b[32m410.6/410.6 MB\u001b[0m \u001b[31m1.9 MB/s\u001b[0m eta \u001b[36m0:00:00\u001b[0m:00:01\u001b[0m00:01\u001b[0m\n\u001b[?25hDownloading nvidia_cuda_cupti_cu12-12.1.105-py3-none-manylinux1_x86_64.whl (14.1 MB)\n\u001b[2K   \u001b[90m━━━━━━━━━━━━━━━━━━━━━━━━━━━━━━━━━━━━━━━━\u001b[0m \u001b[32m14.1/14.1 MB\u001b[0m \u001b[31m59.7 MB/s\u001b[0m eta \u001b[36m0:00:00\u001b[0m00:01\u001b[0m:00:01\u001b[0m\n\u001b[?25hDownloading nvidia_cuda_nvrtc_cu12-12.1.105-py3-none-manylinux1_x86_64.whl (23.7 MB)\n\u001b[2K   \u001b[90m━━━━━━━━━━━━━━━━━━━━━━━━━━━━━━━━━━━━━━━━\u001b[0m \u001b[32m23.7/23.7 MB\u001b[0m \u001b[31m49.3 MB/s\u001b[0m eta \u001b[36m0:00:00\u001b[0m00:01\u001b[0m00:01\u001b[0m\n\u001b[?25hDownloading nvidia_cuda_runtime_cu12-12.1.105-py3-none-manylinux1_x86_64.whl (823 kB)\n\u001b[2K   \u001b[90m━━━━━━━━━━━━━━━━━━━━━━━━━━━━━━━━━━━━━━━━\u001b[0m \u001b[32m823.6/823.6 kB\u001b[0m \u001b[31m35.8 MB/s\u001b[0m eta \u001b[36m0:00:00\u001b[0m\n\u001b[?25hDownloading nvidia_cudnn_cu12-9.1.0.70-py3-none-manylinux2014_x86_64.whl (664.8 MB)\n\u001b[2K   \u001b[90m━━━━━━━━━━━━━━━━━━━━━━━━━━━━━━━━━━━━━━━━\u001b[0m \u001b[32m664.8/664.8 MB\u001b[0m \u001b[31m2.4 MB/s\u001b[0m eta \u001b[36m0:00:00\u001b[0m:00:01\u001b[0m00:01\u001b[0m\n\u001b[?25hDownloading nvidia_cufft_cu12-11.0.2.54-py3-none-manylinux1_x86_64.whl (121.6 MB)\n\u001b[2K   \u001b[90m━━━━━━━━━━━━━━━━━━━━━━━━━━━━━━━━━━━━━━━━\u001b[0m \u001b[32m121.6/121.6 MB\u001b[0m \u001b[31m12.6 MB/s\u001b[0m eta \u001b[36m0:00:00\u001b[0m00:01\u001b[0m00:01\u001b[0m\n\u001b[?25hDownloading nvidia_curand_cu12-10.3.2.106-py3-none-manylinux1_x86_64.whl (56.5 MB)\n\u001b[2K   \u001b[90m━━━━━━━━━━━━━━━━━━━━━━━━━━━━━━━━━━━━━━━━\u001b[0m \u001b[32m56.5/56.5 MB\u001b[0m \u001b[31m25.4 MB/s\u001b[0m eta \u001b[36m0:00:00\u001b[0m00:01\u001b[0m00:01\u001b[0mm\n\u001b[?25hDownloading nvidia_cusolver_cu12-11.4.5.107-py3-none-manylinux1_x86_64.whl (124.2 MB)\n\u001b[2K   \u001b[90m━━━━━━━━━━━━━━━━━━━━━━━━━━━━━━━━━━━━━━━━\u001b[0m \u001b[32m124.2/124.2 MB\u001b[0m \u001b[31m12.5 MB/s\u001b[0m eta \u001b[36m0:00:00\u001b[0m00:01\u001b[0m00:01\u001b[0m\n\u001b[?25hDownloading nvidia_cusparse_cu12-12.1.0.106-py3-none-manylinux1_x86_64.whl (196.0 MB)\n\u001b[2K   \u001b[90m━━━━━━━━━━━━━━━━━━━━━━━━━━━━━━━━━━━━━━━━\u001b[0m \u001b[32m196.0/196.0 MB\u001b[0m \u001b[31m5.3 MB/s\u001b[0m eta \u001b[36m0:00:00\u001b[0m:00:01\u001b[0m00:01\u001b[0m\n\u001b[?25hDownloading nvidia_nccl_cu12-2.20.5-py3-none-manylinux2014_x86_64.whl (176.2 MB)\n\u001b[2K   \u001b[90m━━━━━━━━━━━━━━━━━━━━━━━━━━━━━━━━━━━━━━━━\u001b[0m \u001b[32m176.2/176.2 MB\u001b[0m \u001b[31m8.5 MB/s\u001b[0m eta \u001b[36m0:00:00\u001b[0m:00:01\u001b[0m00:01\u001b[0m\n\u001b[?25hDownloading nvidia_nvtx_cu12-12.1.105-py3-none-manylinux1_x86_64.whl (99 kB)\n\u001b[2K   \u001b[90m━━━━━━━━━━━━━━━━━━━━━━━━━━━━━━━━━━━━━━━━\u001b[0m \u001b[32m99.1/99.1 kB\u001b[0m \u001b[31m386.9 kB/s\u001b[0m eta \u001b[36m0:00:00\u001b[0ma \u001b[36m0:00:01\u001b[0m\n\u001b[?25hDownloading triton-3.0.0-1-cp310-cp310-manylinux2014_x86_64.manylinux_2_17_x86_64.whl (209.4 MB)\n\u001b[2K   \u001b[90m━━━━━━━━━━━━━━━━━━━━━━━━━━━━━━━━━━━━━━━━\u001b[0m \u001b[32m209.4/209.4 MB\u001b[0m \u001b[31m1.7 MB/s\u001b[0m eta \u001b[36m0:00:00\u001b[0m:00:01\u001b[0m00:01\u001b[0m\n\u001b[?25hDownloading torchvision-0.19.0-cp310-cp310-manylinux1_x86_64.whl (7.0 MB)\n\u001b[2K   \u001b[90m━━━━━━━━━━━━━━━━━━━━━━━━━━━━━━━━━━━━━━━━\u001b[0m \u001b[32m7.0/7.0 MB\u001b[0m \u001b[31m74.5 MB/s\u001b[0m eta \u001b[36m0:00:00\u001b[0m:00:01\u001b[0m00:01\u001b[0m\n\u001b[?25hDownloading torchaudio-2.4.0-cp310-cp310-manylinux1_x86_64.whl (3.4 MB)\n\u001b[2K   \u001b[90m━━━━━━━━━━━━━━━━━━━━━━━━━━━━━━━━━━━━━━━━\u001b[0m \u001b[32m3.4/3.4 MB\u001b[0m \u001b[31m72.7 MB/s\u001b[0m eta \u001b[36m0:00:00\u001b[0m:00:01\u001b[0m\n\u001b[?25hDownloading nvidia_nvjitlink_cu12-12.6.20-py3-none-manylinux2014_x86_64.whl (19.7 MB)\n\u001b[2K   \u001b[90m━━━━━━━━━━━━━━━━━━━━━━━━━━━━━━━━━━━━━━━━\u001b[0m \u001b[32m19.7/19.7 MB\u001b[0m \u001b[31m55.3 MB/s\u001b[0m eta \u001b[36m0:00:00\u001b[0m00:01\u001b[0m00:01\u001b[0mm\n\u001b[?25hInstalling collected packages: triton, nvidia-nvtx-cu12, nvidia-nvjitlink-cu12, nvidia-nccl-cu12, nvidia-curand-cu12, nvidia-cufft-cu12, nvidia-cuda-runtime-cu12, nvidia-cuda-nvrtc-cu12, nvidia-cuda-cupti-cu12, nvidia-cublas-cu12, nvidia-cusparse-cu12, nvidia-cudnn-cu12, nvidia-cusolver-cu12, torch, torchvision, torchaudio\n  Attempting uninstall: torch\n    Found existing installation: torch 2.1.2\n    Uninstalling torch-2.1.2:\n      Successfully uninstalled torch-2.1.2\n  Attempting uninstall: torchvision\n    Found existing installation: torchvision 0.16.2\n    Uninstalling torchvision-0.16.2:\n      Successfully uninstalled torchvision-0.16.2\n  Attempting uninstall: torchaudio\n    Found existing installation: torchaudio 2.1.2\n    Uninstalling torchaudio-2.1.2:\n      Successfully uninstalled torchaudio-2.1.2\n\u001b[31mERROR: pip's dependency resolver does not currently take into account all the packages that are installed. This behaviour is the source of the following dependency conflicts.\nfastai 2.7.15 requires torch<2.4,>=1.10, but you have torch 2.4.0 which is incompatible.\u001b[0m\u001b[31m\n\u001b[0mSuccessfully installed nvidia-cublas-cu12-12.1.3.1 nvidia-cuda-cupti-cu12-12.1.105 nvidia-cuda-nvrtc-cu12-12.1.105 nvidia-cuda-runtime-cu12-12.1.105 nvidia-cudnn-cu12-9.1.0.70 nvidia-cufft-cu12-11.0.2.54 nvidia-curand-cu12-10.3.2.106 nvidia-cusolver-cu12-11.4.5.107 nvidia-cusparse-cu12-12.1.0.106 nvidia-nccl-cu12-2.20.5 nvidia-nvjitlink-cu12-12.6.20 nvidia-nvtx-cu12-12.1.105 torch-2.4.0 torchaudio-2.4.0 torchvision-0.19.0 triton-3.0.0\nNote: you may need to restart the kernel to use updated packages.\n",
          "output_type": "stream"
        }
      ]
    },
    {
      "cell_type": "markdown",
      "source": [
        "# Text Retrieval (Sentence transformer)"
      ],
      "metadata": {
        "id": "QDs0m40DzyNp"
      }
    },
    {
      "cell_type": "code",
      "source": [
        "import torch\n",
        "from sentence_transformers import SentenceTransformer"
      ],
      "metadata": {
        "execution": {
          "iopub.status.busy": "2024-08-17T14:11:23.174645Z",
          "iopub.execute_input": "2024-08-17T14:11:23.175029Z",
          "iopub.status.idle": "2024-08-17T14:11:23.179801Z",
          "shell.execute_reply.started": "2024-08-17T14:11:23.174998Z",
          "shell.execute_reply": "2024-08-17T14:11:23.178842Z"
        },
        "trusted": true,
        "id": "IgKPBBFlzyNq"
      },
      "execution_count": null,
      "outputs": []
    },
    {
      "cell_type": "code",
      "source": [
        "model = SentenceTransformer('all-MiniLM-L6-v2')\n",
        "corpus_embeddings = model.encode(corpus, convert_to_tensor=True)\n"
      ],
      "metadata": {
        "execution": {
          "iopub.status.busy": "2024-08-17T14:11:26.10482Z",
          "iopub.execute_input": "2024-08-17T14:11:26.105736Z",
          "iopub.status.idle": "2024-08-17T14:11:37.272406Z",
          "shell.execute_reply.started": "2024-08-17T14:11:26.105696Z",
          "shell.execute_reply": "2024-08-17T14:11:37.271528Z"
        },
        "trusted": true,
        "id": "F4CcjgshzyNq",
        "outputId": "01bfd831-0459-47a6-bcb9-62ad215759bc",
        "colab": {
          "referenced_widgets": [
            "0b485db1016e48d6bfcc2e7c54e0c242",
            "1c99fca446ec4454a405891a8aca23d1",
            "17b5b9e91671488b9671f5b851a07f64",
            "9435ff90d0a54d1492ea041a082fbc93",
            "dc473fa8d8fb46aeb88226d8234396a7",
            "fe6b8f21d964446385b2025827c51e44",
            "bb356a87decc430aa115b1fe51186c37",
            "8b933766f5da45b099b26f4b6bec1e24",
            "58082b53d1e94cdaa31d85a2ed65fbb0",
            "415d48d65be342398ac70fbde2c3c4b4",
            "6d959e4f56ff4c6796d5e2e8569410bf",
            "1a7f75d9eed54cbdb4134cace7ea73b6"
          ]
        }
      },
      "execution_count": null,
      "outputs": [
        {
          "output_type": "display_data",
          "data": {
            "text/plain": "modules.json:   0%|          | 0.00/349 [00:00<?, ?B/s]",
            "application/vnd.jupyter.widget-view+json": {
              "version_major": 2,
              "version_minor": 0,
              "model_id": "0b485db1016e48d6bfcc2e7c54e0c242"
            }
          },
          "metadata": {}
        },
        {
          "output_type": "display_data",
          "data": {
            "text/plain": "config_sentence_transformers.json:   0%|          | 0.00/116 [00:00<?, ?B/s]",
            "application/vnd.jupyter.widget-view+json": {
              "version_major": 2,
              "version_minor": 0,
              "model_id": "1c99fca446ec4454a405891a8aca23d1"
            }
          },
          "metadata": {}
        },
        {
          "output_type": "display_data",
          "data": {
            "text/plain": "README.md:   0%|          | 0.00/10.7k [00:00<?, ?B/s]",
            "application/vnd.jupyter.widget-view+json": {
              "version_major": 2,
              "version_minor": 0,
              "model_id": "17b5b9e91671488b9671f5b851a07f64"
            }
          },
          "metadata": {}
        },
        {
          "output_type": "display_data",
          "data": {
            "text/plain": "sentence_bert_config.json:   0%|          | 0.00/53.0 [00:00<?, ?B/s]",
            "application/vnd.jupyter.widget-view+json": {
              "version_major": 2,
              "version_minor": 0,
              "model_id": "9435ff90d0a54d1492ea041a082fbc93"
            }
          },
          "metadata": {}
        },
        {
          "output_type": "display_data",
          "data": {
            "text/plain": "config.json:   0%|          | 0.00/612 [00:00<?, ?B/s]",
            "application/vnd.jupyter.widget-view+json": {
              "version_major": 2,
              "version_minor": 0,
              "model_id": "dc473fa8d8fb46aeb88226d8234396a7"
            }
          },
          "metadata": {}
        },
        {
          "output_type": "display_data",
          "data": {
            "text/plain": "model.safetensors:   0%|          | 0.00/90.9M [00:00<?, ?B/s]",
            "application/vnd.jupyter.widget-view+json": {
              "version_major": 2,
              "version_minor": 0,
              "model_id": "fe6b8f21d964446385b2025827c51e44"
            }
          },
          "metadata": {}
        },
        {
          "output_type": "display_data",
          "data": {
            "text/plain": "tokenizer_config.json:   0%|          | 0.00/350 [00:00<?, ?B/s]",
            "application/vnd.jupyter.widget-view+json": {
              "version_major": 2,
              "version_minor": 0,
              "model_id": "bb356a87decc430aa115b1fe51186c37"
            }
          },
          "metadata": {}
        },
        {
          "output_type": "display_data",
          "data": {
            "text/plain": "vocab.txt:   0%|          | 0.00/232k [00:00<?, ?B/s]",
            "application/vnd.jupyter.widget-view+json": {
              "version_major": 2,
              "version_minor": 0,
              "model_id": "8b933766f5da45b099b26f4b6bec1e24"
            }
          },
          "metadata": {}
        },
        {
          "output_type": "display_data",
          "data": {
            "text/plain": "tokenizer.json:   0%|          | 0.00/466k [00:00<?, ?B/s]",
            "application/vnd.jupyter.widget-view+json": {
              "version_major": 2,
              "version_minor": 0,
              "model_id": "58082b53d1e94cdaa31d85a2ed65fbb0"
            }
          },
          "metadata": {}
        },
        {
          "output_type": "display_data",
          "data": {
            "text/plain": "special_tokens_map.json:   0%|          | 0.00/112 [00:00<?, ?B/s]",
            "application/vnd.jupyter.widget-view+json": {
              "version_major": 2,
              "version_minor": 0,
              "model_id": "415d48d65be342398ac70fbde2c3c4b4"
            }
          },
          "metadata": {}
        },
        {
          "output_type": "display_data",
          "data": {
            "text/plain": "1_Pooling/config.json:   0%|          | 0.00/190 [00:00<?, ?B/s]",
            "application/vnd.jupyter.widget-view+json": {
              "version_major": 2,
              "version_minor": 0,
              "model_id": "6d959e4f56ff4c6796d5e2e8569410bf"
            }
          },
          "metadata": {}
        },
        {
          "output_type": "display_data",
          "data": {
            "text/plain": "Batches:   0%|          | 0/229 [00:00<?, ?it/s]",
            "application/vnd.jupyter.widget-view+json": {
              "version_major": 2,
              "version_minor": 0,
              "model_id": "1a7f75d9eed54cbdb4134cace7ea73b6"
            }
          },
          "metadata": {}
        }
      ]
    },
    {
      "cell_type": "code",
      "source": [
        "from sentence_transformers import util\n",
        "\n",
        "def similarity(query_embeddings, corpus_embeddings):\n",
        "    return util.cos_sim(query_embeddings, corpus_embeddings)[0]"
      ],
      "metadata": {
        "execution": {
          "iopub.status.busy": "2024-08-17T14:18:49.148259Z",
          "iopub.execute_input": "2024-08-17T14:18:49.148641Z",
          "iopub.status.idle": "2024-08-17T14:18:49.15368Z",
          "shell.execute_reply.started": "2024-08-17T14:18:49.148607Z",
          "shell.execute_reply": "2024-08-17T14:18:49.152697Z"
        },
        "trusted": true,
        "id": "YLd3pxUwzyNq"
      },
      "execution_count": null,
      "outputs": []
    },
    {
      "cell_type": "code",
      "source": [
        "def ranking(query, corpus_embeddings, top_k = 10):\n",
        "    query_embeddings = model.encode(\n",
        "        query,\n",
        "        convert_to_tensor = True\n",
        "    )\n",
        "\n",
        "    cos_scores = similarity(query_embeddings, corpus_embeddings)\n",
        "\n",
        "    top_results = torch.topk(cos_scores, k=top_k)\n",
        "\n",
        "    return top_results"
      ],
      "metadata": {
        "execution": {
          "iopub.status.busy": "2024-08-17T14:25:40.584996Z",
          "iopub.execute_input": "2024-08-17T14:25:40.585387Z",
          "iopub.status.idle": "2024-08-17T14:25:40.590519Z",
          "shell.execute_reply.started": "2024-08-17T14:25:40.585355Z",
          "shell.execute_reply": "2024-08-17T14:25:40.58964Z"
        },
        "trusted": true,
        "id": "kD-hF68NzyNq"
      },
      "execution_count": null,
      "outputs": []
    },
    {
      "cell_type": "code",
      "source": [
        "query = 'what is the official language in Fiji'\n",
        "ranks = ranking(query, corpus_embeddings)\n",
        "\n",
        "indicies = ranks.indices.cpu().numpy()\n",
        "similarities = ranks.values.cpu().numpy()\n",
        "\n",
        "for top, (index, similarity) in enumerate(zip(indicies, similarities), start= 1):\n",
        "    print(f\"Top {top} \\n\",corpus[index])\n"
      ],
      "metadata": {
        "execution": {
          "iopub.status.busy": "2024-08-17T14:39:02.88681Z",
          "iopub.execute_input": "2024-08-17T14:39:02.887599Z",
          "iopub.status.idle": "2024-08-17T14:39:02.919998Z",
          "shell.execute_reply.started": "2024-08-17T14:39:02.887566Z",
          "shell.execute_reply": "2024-08-17T14:39:02.919129Z"
        },
        "trusted": true,
        "id": "O1uYi32rzyNq",
        "outputId": "27c31e17-fbec-48a2-d5eb-7c084ce262f1",
        "colab": {
          "referenced_widgets": [
            "77a6c450192040c5aec4e19231eff9cc"
          ]
        }
      },
      "execution_count": null,
      "outputs": [
        {
          "output_type": "display_data",
          "data": {
            "text/plain": "Batches:   0%|          | 0/1 [00:00<?, ?it/s]",
            "application/vnd.jupyter.widget-view+json": {
              "version_major": 2,
              "version_minor": 0,
              "model_id": "77a6c450192040c5aec4e19231eff9cc"
            }
          },
          "metadata": {}
        },
        {
          "name": "stdout",
          "text": "Top 1 \n The official languages. Fiji’s 1997 Constitution established Fijian as one of the official languages of the country. Fijian is an Austronesian language, a grouping that includes thousands of other languages spanning the globe. The language is of the Malayo-Polynesian family, not too different from Hawaiian and Maori.\nTop 2 \n Fiji has three official languages under the 1997 constitution (and not revoked by the 2013 Constitution): English, Fijian and Hindi. Fijian is spoken either as a first or second language by indigenous Fijians who make up around 54% of the population.\nTop 3 \n The Republic of the Fiji Islands citizens speak British English. Fijian and Fiji-Hindi is the second language. Other major language that is taught in elementary/primary schools and high schools are Urdu and French. Urdu and French is never considered to be a benefit to the people of Fiji.\nTop 4 \n The Republic of the Fiji Islands citizens speak British English. Fijian and Fiji-Hindi is the second language. Other major language that is taught in elementary/primary school … s and high schools are Urdu and French. Urdu and French is never considered to be a benefit to the people of Fiji.\nTop 5 \n Fiji Language. The Fijian language spoken in Fiji is a type of Austronesian langauge and is part of the Malayo-Polynesian family. The Austronesian languages are normally found among islands in continental and Southeast Asia along with islands in the Pacific.\nTop 6 \n The official languages in Fiji are Fijian and English. A dialect of Hindustani is also widely spoken among Indo-Fijians.  _________________________________________   T … he official and everyday language of Fiji is English. Fijian and Fiji-Hindi are second languages in the island nation.\nTop 7 \n The official languages in Fiji are Fijian and English. A dialect of Hindustani is also widely spoken among Indo-Fijians.  _________________________________________   T … he official and everyday language of Fiji is English. Fijian and Fiji-Hindi are second languages in the island nation.\nTop 8 \n It is an official language, but not native to large segments of the population, in Fiji, Ghana, Gambia, Kiribati, Lesotho, Kenya, Namibia, Nigeria, Malta, the Marshall Islands, Pakistan, Papua New Guinea, the Philippines, the Solomon Islands, Samoa, Sierra Leone, Swaziland, Tanzania, Zambia and Zimbabwe. \nTop 9 \n About 40 different languages are spoken in Uganda. The official language is English and Swahili was approved as a second official language in 2005. They speak the same English but they do say some word in hawaiian Mostly English but there and many languages that people speak there too Pigeon -- English slang There is a n … ative Hawaiian language, famous for its limited alphabet, but most people there today can speak English (and some Spanish).\nTop 10 \n Confidence votes 85. About 40 different languages are spoken in Uganda. The official language is English and Swahili was approved as a second official language in 2005. The most widely used local language is Luganda, but Lusoga, Runyankore and Bantu are used extensively in some areas. They speak the same English but they do say some word in hawaiian Mostly English but there and many languages that people speak there too Pigeon -- English slang There is a n … ative Hawaiian language, famous for its limited alphabet, but most people there today can speak English (and some Spanish).\n",
          "output_type": "stream"
        }
      ]
    }
  ]
}